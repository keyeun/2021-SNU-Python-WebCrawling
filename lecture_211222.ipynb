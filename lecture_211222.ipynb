{
 "cells": [
  {
   "cell_type": "markdown",
   "id": "826769f3",
   "metadata": {},
   "source": [
    "## 0. 모듈 불러와주기\n",
    "- requests: 원하는 웹페이지에 요청을 보내 html을 받아오는 것\n",
    "- BeautifulSoup: html을 파싱(실제 실행가능한 형태로 변환) 해주는 모듈\n",
    "- pandas: 행과 열로 이루어진 데이터프레임 만들기 위해서\n",
    "- collections : deque라는 자료구조 활용하기 위해서\n",
    "- re: regex(정규표현식) 사용하기 위해서"
   ]
  },
  {
   "cell_type": "code",
   "execution_count": null,
   "id": "b5f58763",
   "metadata": {},
   "outputs": [],
   "source": []
  },
  {
   "cell_type": "markdown",
   "id": "3a2c26be",
   "metadata": {},
   "source": [
    "## 1. 이름만 먼저 가져와보자\n",
    "- data 요청하기\n",
    "- data의 content 가져오기\n",
    "- content를 파싱(원하는 형태로 가공)하기 -> lxml이 빠르다\n",
    "- name 찾기 : soup.find_all"
   ]
  },
  {
   "cell_type": "code",
   "execution_count": null,
   "id": "2f71ae80",
   "metadata": {},
   "outputs": [],
   "source": []
  },
  {
   "cell_type": "markdown",
   "id": "c1663ecf",
   "metadata": {},
   "source": [
    "## 2. 나머지도 가져와보자"
   ]
  },
  {
   "cell_type": "code",
   "execution_count": null,
   "id": "f5d336ee",
   "metadata": {},
   "outputs": [],
   "source": []
  },
  {
   "cell_type": "markdown",
   "id": "24ff8831",
   "metadata": {},
   "source": [
    "## 3. 끌고 온 데이터를 원하는 형식으로 저장해주자\n",
    "- 빈 큐를 만들어주자 co.deque([])\n",
    "- for문을 활용해서 빈 큐에 append 시켜주기\n",
    "- 한자 깔끔하게 만들어주기: 정규표현식을 활용해보자(re.sub으로 공백문자 치환하기)"
   ]
  },
  {
   "cell_type": "code",
   "execution_count": null,
   "id": "eee4cdc3",
   "metadata": {},
   "outputs": [],
   "source": []
  },
  {
   "cell_type": "markdown",
   "id": "8550ad89",
   "metadata": {},
   "source": [
    "## 4. 데이터프레임으로 만들어주기\n",
    "- pd.DataFrame"
   ]
  },
  {
   "cell_type": "code",
   "execution_count": null,
   "id": "79627c1a",
   "metadata": {},
   "outputs": [],
   "source": []
  },
  {
   "cell_type": "markdown",
   "id": "52466cdd",
   "metadata": {},
   "source": [
    "## 5. csv파일로 저장하기\n",
    "- (원하는데이터프레임).to_csv(\"원하는 파일명.csv\")"
   ]
  },
  {
   "cell_type": "code",
   "execution_count": null,
   "id": "2cf14ac7",
   "metadata": {},
   "outputs": [],
   "source": []
  },
  {
   "cell_type": "markdown",
   "id": "21440c19",
   "metadata": {},
   "source": [
    "## (보너스) 정당명도 함께 긁어오기"
   ]
  },
  {
   "cell_type": "code",
   "execution_count": null,
   "id": "064b4232",
   "metadata": {},
   "outputs": [],
   "source": []
  },
  {
   "cell_type": "code",
   "execution_count": null,
   "id": "a0a79c46",
   "metadata": {},
   "outputs": [],
   "source": []
  }
 ],
 "metadata": {
  "kernelspec": {
   "display_name": "Python 3",
   "language": "python",
   "name": "python3"
  },
  "language_info": {
   "codemirror_mode": {
    "name": "ipython",
    "version": 3
   },
   "file_extension": ".py",
   "mimetype": "text/x-python",
   "name": "python",
   "nbconvert_exporter": "python",
   "pygments_lexer": "ipython3",
   "version": "3.8.8"
  }
 },
 "nbformat": 4,
 "nbformat_minor": 5
}
